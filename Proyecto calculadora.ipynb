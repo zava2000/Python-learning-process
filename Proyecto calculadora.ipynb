{
 "cells": [
  {
   "cell_type": "code",
   "execution_count": 1,
   "metadata": {},
   "outputs": [],
   "source": [
    "# Hacer una calculadora que reciba un input del usuario\n",
    "# Consideraciones:\n",
    "# para operaciones matematicas deben ser en enteros o flotantes\n",
    "# el usuario puede ingresar una str o un valor que no me permita realizar operaciones\n",
    "# tengo que tener en cuenta que operacion desean hacer "
   ]
  },
  {
   "cell_type": "code",
   "execution_count": 9,
   "metadata": {},
   "outputs": [],
   "source": [
    "# Genero las definiciones\n",
    "\n",
    "# Suma\n",
    "def suma(x, y):\n",
    "    return x + y\n",
    "\n",
    "# Resta\n",
    "def resta(x, y):\n",
    "    return x - y\n",
    "\n",
    "# Division\n",
    "def div(x, y):\n",
    "    return x / y\n",
    "\n",
    "# Multiplicacion \n",
    "def mult(x, y):\n",
    "    return x * y\n",
    "\n",
    "# Potencia\n",
    "def pot(x, y):\n",
    "    return x ** y\n",
    "\n",
    "# Raiz\n",
    "def raiz(x, y):\n",
    "    return x ** (1/y)"
   ]
  },
  {
   "cell_type": "code",
   "execution_count": 10,
   "metadata": {},
   "outputs": [],
   "source": [
    "# Defino funcion de operaciones\n",
    "\n",
    "def operacion():\n",
    "    print('Selecciona una operacion:')\n",
    "    print('1. Suma')\n",
    "    print('2. Resta')\n",
    "    print('3. Division')\n",
    "    print('4. Multiplicacion')\n",
    "    print('5. Potencia')\n",
    "    print('6. Raiz')"
   ]
  },
  {
   "cell_type": "code",
   "execution_count": 11,
   "metadata": {},
   "outputs": [],
   "source": [
    "# Defino funcion que ejecute la operacion\n",
    "\n",
    "opciones = ['1', '2', '3', '4', '5', '6']\n",
    "\n",
    "def calculadora():\n",
    "    \n",
    "    choice = 'error'\n",
    "    \n",
    "    while choice.isdigit() == False or choice not in opciones:\n",
    "        choice = input(\"Por favor ingresa la operacion que deseas realizar: \")\n",
    "        \n",
    "        if choice.isdigit() == True:\n",
    "            \n",
    "            if choice not in opciones:\n",
    "                    print('Operacion no disponible !')\n",
    "                    \n",
    "            elif choice in opciones:\n",
    "                numero_1 = float(input(\"Selecciona el primer numero: \"))\n",
    "                numero_2 = float(input(\"Selecciona el segundo numero: \"))\n",
    "            \n",
    "                if choice == '1':\n",
    "                    print(numero_1 , '+' , numero_2 , '=' , suma(numero_1, numero_2))\n",
    "                \n",
    "                elif choice == '2':\n",
    "                    print(numero_1 , '-' , numero_2 , '=' , resta(numero_1, numero_2))\n",
    "            \n",
    "                elif choice == '3':\n",
    "                    print(numero_1 , '/' , numero_2 , '=' , div(numero_1, numero_2))\n",
    "            \n",
    "                elif choice == '4':\n",
    "                    print(numero_1 , '*' , numero_2 , '=' , mult(numero_1, numero_2))\n",
    "                \n",
    "                elif choice == '5':\n",
    "                    print(numero_1 , '**' , numero_2 , '=' , pot(numero_1, numero_2))\n",
    "                    \n",
    "                elif choice == '6':\n",
    "                    print(numero_1 , 'raiz' , numero_2 , '=' , raiz(numero_1, numero_2))"
   ]
  },
  {
   "cell_type": "code",
   "execution_count": 12,
   "metadata": {},
   "outputs": [],
   "source": [
    "# Defino operacion para ver si quieren seguir calculando\n",
    "\n",
    "def seguir():\n",
    "    \n",
    "    choice = 'error'\n",
    "    opciones = ['S', 'N']\n",
    "    \n",
    "    while choice not in opciones:\n",
    "        choice = input('Desea continuar calculando ? (S, N): ').upper()\n",
    "        \n",
    "        if choice not in opciones:\n",
    "            print('Por favor seleccione una opcion valida !')\n",
    "        \n",
    "        elif choice in opciones:\n",
    "            if choice == \"S\":\n",
    "                return True\n",
    "            elif choice == \"N\":\n",
    "                return False"
   ]
  },
  {
   "cell_type": "code",
   "execution_count": 6,
   "metadata": {},
   "outputs": [],
   "source": [
    "prueba = True\n",
    "\n",
    "def final():\n",
    "    \n",
    "    while prueba:\n",
    "        operacion()\n",
    "        calculadora()\n",
    "        if seguir() == False:\n",
    "            break\n",
    "        else: \n",
    "            pass"
   ]
  },
  {
   "cell_type": "code",
   "execution_count": 15,
   "metadata": {},
   "outputs": [],
   "source": [
    "# Prueba de codigo. Para ejercutar codea: final() ctrl+enter"
   ]
  }
 ],
 "metadata": {
  "kernelspec": {
   "display_name": "Python 3",
   "language": "python",
   "name": "python3"
  },
  "language_info": {
   "codemirror_mode": {
    "name": "ipython",
    "version": 3
   },
   "file_extension": ".py",
   "mimetype": "text/x-python",
   "name": "python",
   "nbconvert_exporter": "python",
   "pygments_lexer": "ipython3",
   "version": "3.7.3"
  }
 },
 "nbformat": 4,
 "nbformat_minor": 2
}
